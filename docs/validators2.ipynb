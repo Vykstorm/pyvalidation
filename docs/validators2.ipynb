{
 "cells": [
  {
   "cell_type": "markdown",
   "metadata": {
    "collapsed": true
   },
   "source": [
    "The sections shows a few examples of using predefined validators"
   ]
  },
  {
   "cell_type": "code",
   "execution_count": 1,
   "metadata": {},
   "outputs": [],
   "source": [
    "from vpfargs import validate"
   ]
  },
  {
   "cell_type": "markdown",
   "metadata": {},
   "source": [
    "number validator matches different numeric built-in python types (float, int and Decimal, but not complex)"
   ]
  },
  {
   "cell_type": "code",
   "execution_count": 2,
   "metadata": {},
   "outputs": [
    {
     "name": "stdout",
     "output_type": "stream",
     "text": [
      "int\nfloat\nDecimal\nInvalid argument at position 1: Numeric type expected but got NoneType\n"
     ]
    }
   ],
   "source": [
    "from vpfargs import number, Decimal\n",
    "\n",
    "@validate(number)\n",
    "def foo(x):\n",
    "    print(type(x).__name__)\n",
    "    \n",
    "foo(1)\n",
    "foo(1.0)\n",
    "foo(Decimal(1.0))\n",
    "\n",
    "try:\n",
    "    foo(None)\n",
    "except Exception as e:\n",
    "    print(e)"
   ]
  },
  {
   "cell_type": "markdown",
   "metadata": {},
   "source": [
    "matchregex and fullmatchgrex matches strings that match or fullmatch a given pattern respectively"
   ]
  },
  {
   "cell_type": "code",
   "execution_count": 3,
   "metadata": {},
   "outputs": [
    {
     "name": "stdout",
     "output_type": "stream",
     "text": [
      "Invalid argument at position 1: Type str expected but got bool\nInvalid argument at position 1: \"Hello World!\" string not matching the regex pattern \"\\d+\"\nInvalid argument at position 2: \"-1234-\" string not fully matching the regex pattern \"[ ]*\\d+[ ]*\"\n"
     ]
    }
   ],
   "source": [
    "from vpfargs import matchregex, fullmatchregex\n",
    "\n",
    "@validate(matchregex('\\d+'), fullmatchregex('[ ]*\\d+[ ]*'))\n",
    "def bar(x, y):\n",
    "    pass\n",
    "    \n",
    "bar('1234#Hello World',  '  1234  ')\n",
    "\n",
    "try:\n",
    "    bar(False, False)\n",
    "except Exception as e:\n",
    "    print(e)\n",
    "    \n",
    "try:\n",
    "    bar('Hello World!', ' 1234 ')\n",
    "except Exception as e:\n",
    "    print(e)\n",
    "    \n",
    "try:\n",
    "    bar('1234', '-1234-')\n",
    "except Exception as e:\n",
    "    print(e)"
   ]
  },
  {
   "cell_type": "markdown",
   "metadata": {},
   "source": [
    "iterable and hashable validators matches any object that can be iterated and some object which can be associated with a hash value (normally inmutable values like int, float, frozenset, tuples, ...) respectively"
   ]
  },
  {
   "cell_type": "code",
   "execution_count": 10,
   "metadata": {},
   "outputs": [
    {
     "name": "stdout",
     "output_type": "stream",
     "text": [
      "[1, 2, 3] (1, 2, 3)\nInvalid argument at position 1: Value 5 is not iterable (at level 1)\nInvalid argument at position 2: Value [1, 2, 3] is not hashable (at level 2)\n"
     ]
    }
   ],
   "source": [
    "from vpfargs import iterable, hashable\n",
    "\n",
    "@validate(iterable, iterable)\n",
    "@validate(y=hashable)\n",
    "def foo(x, y):\n",
    "    print(x, y)\n",
    "\n",
    "foo([1,2,3], (1,2,3))\n",
    "try:\n",
    "    foo(5, False)\n",
    "except Exception as e:\n",
    "    print(e)\n",
    "    \n",
    "try:\n",
    "    foo([1,2,3], [1,2,3])\n",
    "except Exception as e:\n",
    "    print(e)"
   ]
  },
  {
   "cell_type": "markdown",
   "metadata": {},
   "source": [
    "callable validator checks if the given argument can be called. Be careful when importing this validator as it shadows the callable python built-in function"
   ]
  },
  {
   "cell_type": "code",
   "execution_count": 13,
   "metadata": {},
   "outputs": [
    {
     "name": "stdout",
     "output_type": "stream",
     "text": [
      "Hello World!\nInvalid argument at position 1: Value 1 is not callable\n"
     ]
    }
   ],
   "source": [
    "from vpfargs import callable\n",
    "\n",
    "def bar():\n",
    "    print('Hello World!')\n",
    "\n",
    "@validate(callable)\n",
    "def foo(callback):\n",
    "    callback()\n",
    "\n",
    "foo(bar)\n",
    "try:\n",
    "    foo(1)\n",
    "except Exception as e:\n",
    "    print(e)"
   ]
  },
  {
   "cell_type": "code",
   "execution_count": null,
   "metadata": {},
   "outputs": [],
   "source": []
  }
 ],
 "metadata": {
  "kernelspec": {
   "display_name": "Python 2",
   "language": "python",
   "name": "python2"
  },
  "language_info": {
   "codemirror_mode": {
    "name": "ipython",
    "version": 2
   },
   "file_extension": ".py",
   "mimetype": "text/x-python",
   "name": "python",
   "nbconvert_exporter": "python",
   "pygments_lexer": "ipython2",
   "version": "2.7.6"
  }
 },
 "nbformat": 4,
 "nbformat_minor": 0
}
