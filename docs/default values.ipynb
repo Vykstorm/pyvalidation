{
 "cells": [
  {
   "cell_type": "markdown",
   "metadata": {
    "collapsed": true
   },
   "source": [
    "This sections demonstrates that default values are not validated neither parsed."
   ]
  },
  {
   "cell_type": "code",
   "execution_count": null,
   "metadata": {
    "collapsed": true
   },
   "outputs": [
    {
     "name": "stdout",
     "output_type": "stream",
     "text": [
      "Invalid argument at position 1: Type str expected but got int\n"
     ]
    }
   ],
   "source": [
    "\n",
    "from vpfargs import validate, parse\n",
    "\n",
    "@validate(str)\n",
    "def foo(x=1):\n",
    "    print(x)\n",
    "\n",
    "foo()\n",
    "try:\n",
    "    foo(1)\n",
    "except Exception as e:\n",
    "    print(e)"
   ]
  },
  {
   "cell_type": "markdown",
   "metadata": {},
   "source": [
    "The first call to foo function has no arguments, so the argument x takes the default value 1 which is not validated (it would raise an exception otherwise because its not a string object)\n",
    "The later call implictly sets the value of argument x and thus trhowing an exception due to validation failed"
   ]
  },
  {
   "cell_type": "code",
   "execution_count": null,
   "metadata": {},
   "outputs": [],
   "source": []
  }
 ],
 "metadata": {
  "kernelspec": {
   "display_name": "Python 2",
   "language": "python",
   "name": "python2"
  },
  "language_info": {
   "codemirror_mode": {
    "name": "ipython",
    "version": 2
   },
   "file_extension": ".py",
   "mimetype": "text/x-python",
   "name": "python",
   "nbconvert_exporter": "python",
   "pygments_lexer": "ipython2",
   "version": "2.7.6"
  }
 },
 "nbformat": 4,
 "nbformat_minor": 0
}
