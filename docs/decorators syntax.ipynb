{
 "cells": [
  {
   "cell_type": "markdown",
   "metadata": {
    "collapsed": true
   },
   "source": [
    "In other sections, when using the decorator validate(), we usually pass a sequence of items (validators) where each of them will check its corresponding function argument, like the next code\n"
   ]
  },
  {
   "cell_type": "code",
   "execution_count": 9,
   "metadata": {},
   "outputs": [],
   "source": [
    "from vpfargs import validate"
   ]
  },
  {
   "cell_type": "code",
   "execution_count": 10,
   "metadata": {},
   "outputs": [],
   "source": [
    "@validate(int, float, str)\n",
    "def foo(x, y, z):\n",
    "    pass"
   ]
  },
  {
   "cell_type": "markdown",
   "metadata": {},
   "source": [
    "But if we only need to validate the last argument?\n",
    "The first solution is adding trivial validators for the arguments we dont want to check.\n",
    "\n",
    "The object class is the root class of any built-in and custom classes. object can be used as an \"empty\" validator that matches everything"
   ]
  },
  {
   "cell_type": "code",
   "execution_count": 12,
   "metadata": {},
   "outputs": [],
   "source": [
    "@validate(object, object, str)\n",
    "def foo(x, y, z):\n",
    "    pass\n",
    "\n",
    "foo(1, False, 'Hello World!')"
   ]
  },
  {
   "cell_type": "markdown",
   "metadata": {},
   "source": [
    "Another possibility is specifying validators via keyword arguments in the decorator which can be useful if you have lot of parameters in your function signature."
   ]
  },
  {
   "cell_type": "code",
   "execution_count": 16,
   "metadata": {},
   "outputs": [],
   "source": [
    "@validate(z=str)\n",
    "def foo(x, y, z):\n",
    "    pass\n",
    "\n",
    "foo(1, False, 'Hello World!')\n"
   ]
  },
  {
   "cell_type": "markdown",
   "metadata": {},
   "source": [
    "In the above example, only a validator for the argument z is set. The rest of arguments will not be validated.\n",
    "\n",
    "You can specify both positional and keyword arguments together"
   ]
  },
  {
   "cell_type": "code",
   "execution_count": 17,
   "metadata": {},
   "outputs": [],
   "source": [
    "@validate(int, z=str)\n",
    "def foo(x, y, z):\n",
    "    pass"
   ]
  },
  {
   "cell_type": "markdown",
   "metadata": {},
   "source": [
    "Only x and z arguments are checked"
   ]
  },
  {
   "cell_type": "markdown",
   "metadata": {},
   "source": [
    "There is also avaliable the ellipsis syntax (3 dots, \"...\") to define your validators.\n",
    "The next two pieces of code are equivalent"
   ]
  },
  {
   "cell_type": "code",
   "execution_count": 18,
   "metadata": {},
   "outputs": [],
   "source": [
    "@validate(..., int)\n",
    "def foo(x, y, z, w):\n",
    "    pass"
   ]
  },
  {
   "cell_type": "code",
   "execution_count": 19,
   "metadata": {},
   "outputs": [],
   "source": [
    "@validate(object, object, object, int)\n",
    "def foo(x, y, z, w):\n",
    "    pass"
   ]
  },
  {
   "cell_type": "markdown",
   "metadata": {},
   "source": [
    "The next two are also equivalent"
   ]
  },
  {
   "cell_type": "code",
   "execution_count": 20,
   "metadata": {},
   "outputs": [],
   "source": [
    "@validate(int, ..., int)\n",
    "def foo(x, y, z, w):\n",
    "    pass\n"
   ]
  },
  {
   "cell_type": "code",
   "execution_count": 21,
   "metadata": {},
   "outputs": [],
   "source": [
    "@validate(int, object, object, int)\n",
    "def foo(x, y, z, w):\n",
    "    pass"
   ]
  },
  {
   "cell_type": "markdown",
   "metadata": {},
   "source": [
    "The ellipsis syntax can be combined with keyword arguments..."
   ]
  },
  {
   "cell_type": "code",
   "execution_count": 24,
   "metadata": {},
   "outputs": [
    {
     "name": "stdout",
     "output_type": "stream",
     "text": [
      "Invalid argument at position 2: Type float expected but got NoneType\nInvalid argument at position 5: Type int expected but got bool\n"
     ]
    }
   ],
   "source": [
    "@validate(..., int, b = float)\n",
    "def foo(a, b, c, d, e):\n",
    "    pass\n",
    "\n",
    "foo(None, 2.0, True, 'Hello World', 1)\n",
    "\n",
    "try:\n",
    "    foo(None, None, True, 'Hello World', 1)\n",
    "except Exception as e:\n",
    "    print(e)\n",
    "\n",
    "try:\n",
    "    foo(None, 2.0, True, 'Hello World', False)\n",
    "except Exception as e:\n",
    "    print(e)"
   ]
  },
  {
   "cell_type": "markdown",
   "metadata": {},
   "source": [
    "Only arguments b and e are checked"
   ]
  },
  {
   "cell_type": "code",
   "execution_count": null,
   "metadata": {},
   "outputs": [],
   "source": []
  }
 ],
 "metadata": {
  "kernelspec": {
   "display_name": "Python 2",
   "language": "python",
   "name": "python2"
  },
  "language_info": {
   "codemirror_mode": {
    "name": "ipython",
    "version": 2
   },
   "file_extension": ".py",
   "mimetype": "text/x-python",
   "name": "python",
   "nbconvert_exporter": "python",
   "pygments_lexer": "ipython2",
   "version": "2.7.6"
  }
 },
 "nbformat": 4,
 "nbformat_minor": 0
}
