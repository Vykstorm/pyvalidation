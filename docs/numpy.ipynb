{
 "cells": [
  {
   "cell_type": "markdown",
   "metadata": {
    "collapsed": true
   },
   "source": [
    "The array or Array keyword can be used as validator to check if an input argument is a numpy ndarray"
   ]
  },
  {
   "cell_type": "code",
   "execution_count": 3,
   "metadata": {},
   "outputs": [],
   "source": [
    "from vpfargs import validate, array\n",
    "import numpy as np"
   ]
  },
  {
   "cell_type": "code",
   "execution_count": 6,
   "metadata": {},
   "outputs": [
    {
     "name": "stdout",
     "output_type": "stream",
     "text": [
      "[[1. 1.]\n [1. 1.]]\nInvalid argument at position 1: Type ndarray expected but got list\n"
     ]
    }
   ],
   "source": [
    "@validate(array)\n",
    "def foo(x):\n",
    "    print(x)\n",
    "\n",
    "foo(np.ones([2,2]))\n",
    "try:\n",
    "    foo([1,2,3])\n",
    "except Exception as e:\n",
    "    print(e)"
   ]
  },
  {
   "cell_type": "markdown",
   "metadata": {},
   "source": [
    "array keyword is an alias of np.ndarray when used as a validator. The code above could be also written as..."
   ]
  },
  {
   "cell_type": "code",
   "execution_count": 7,
   "metadata": {},
   "outputs": [
    {
     "name": "stdout",
     "output_type": "stream",
     "text": [
      "[[1. 1.]\n [1. 1.]]\nInvalid argument at position 1: Type ndarray expected but got list\n"
     ]
    }
   ],
   "source": [
    "@validate(np.ndarray)\n",
    "def foo(x):\n",
    "    print(x)\n",
    "\n",
    "foo(np.ones([2,2]))\n",
    "try:\n",
    "    foo([1,2,3])\n",
    "except Exception as e:\n",
    "    print(e)"
   ]
  },
  {
   "cell_type": "markdown",
   "metadata": {},
   "source": [
    "But array can specify filters so that only numpy arrays with specific properties match the validator"
   ]
  },
  {
   "cell_type": "code",
   "execution_count": 14,
   "metadata": {},
   "outputs": [
    {
     "name": "stdout",
     "output_type": "stream",
     "text": [
      "[[1 1 1]\n [1 1 1]\n [1 1 1]]\nInvalid argument at position 1: Expected ndarray uint32 dtype but got float64\nInvalid argument at position 1: Expected 3x3 array but got 4x4 array\n"
     ]
    }
   ],
   "source": [
    "@validate(array(dtype=np.uint32, shape=(3,3)))\n",
    "def foo(x):\n",
    "    print(x)\n",
    "\n",
    "foo(np.ones([3,3], dtype=np.uint32))\n",
    "\n",
    "try:\n",
    "    foo(np.zeros([3,3], dtype=np.float64))\n",
    "except Exception as e:\n",
    "    print(e)\n",
    "    \n",
    "try:\n",
    "    foo(np.ones([4,4], dtype=np.uint32))\n",
    "except Exception as e:\n",
    "    print(e)"
   ]
  },
  {
   "cell_type": "markdown",
   "metadata": {},
   "source": [
    "In the last example, only arrays with a 3x3 shape an uint32 elements are matched\n"
   ]
  },
  {
   "cell_type": "code",
   "execution_count": null,
   "metadata": {},
   "outputs": [],
   "source": []
  }
 ],
 "metadata": {
  "kernelspec": {
   "display_name": "Python 2",
   "language": "python",
   "name": "python2"
  },
  "language_info": {
   "codemirror_mode": {
    "name": "ipython",
    "version": 2
   },
   "file_extension": ".py",
   "mimetype": "text/x-python",
   "name": "python",
   "nbconvert_exporter": "python",
   "pygments_lexer": "ipython2",
   "version": "2.7.6"
  }
 },
 "nbformat": 4,
 "nbformat_minor": 0
}
