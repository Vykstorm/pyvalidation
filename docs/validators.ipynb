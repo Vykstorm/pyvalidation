{
 "cells": [
  {
   "cell_type": "markdown",
   "metadata": {
    "collapsed": true
   },
   "source": [
    "This section shows different ways to validate your function arguments"
   ]
  },
  {
   "cell_type": "code",
   "execution_count": 1,
   "metadata": {},
   "outputs": [],
   "source": [
    "from vpfargs import validate"
   ]
  },
  {
   "cell_type": "markdown",
   "metadata": {},
   "source": [
    "You can ensure that the function arguments have the correct type"
   ]
  },
  {
   "cell_type": "code",
   "execution_count": 2,
   "metadata": {},
   "outputs": [
    {
     "name": "stdout",
     "output_type": "stream",
     "text": [
      "<class 'int'> <class 'float'> <class 'bool'>\nInvalid argument at position 3: Type bool expected but got NoneType\n"
     ]
    }
   ],
   "source": [
    "@validate(int, float, bool)\n",
    "def foo(x, y, z):\n",
    "    print(type(x), type(y), type(z))\n",
    "\n",
    "foo(1, 1.0, True)\n",
    "try:\n",
    "    foo(1, 1.0, None)\n",
    "except Exception as e:\n",
    "    print(e)"
   ]
  },
  {
   "cell_type": "markdown",
   "metadata": {},
   "source": [
    "Some argument could have different valid types..."
   ]
  },
  {
   "cell_type": "code",
   "execution_count": 3,
   "metadata": {},
   "outputs": [
    {
     "name": "stdout",
     "output_type": "stream",
     "text": [
      "Invalid argument at position 1: Type bool or float or str expected but got NoneType\n"
     ]
    }
   ],
   "source": [
    "from vpfargs import number\n",
    "\n",
    "@validate([str, float, bool], number)\n",
    "def bar(x, y):\n",
    "    pass\n",
    "\n",
    "bar('Hello World!', 1.0)\n",
    "bar(1.0, 1.0)\n",
    "bar(True, 1)\n",
    "try:\n",
    "    bar(None, 1.0)\n",
    "except Exception as e:\n",
    "    print(e)"
   ]
  },
  {
   "cell_type": "markdown",
   "metadata": {},
   "source": [
    "In the above code, the first argument must be an str, float or bool object, whereas the second argument could be any numeric type (int, float, Decimal)"
   ]
  },
  {
   "cell_type": "markdown",
   "metadata": {},
   "source": [
    "You can pass your classes as validators. The function will expect an instance of the class you specified or subclass of it."
   ]
  },
  {
   "cell_type": "code",
   "execution_count": 4,
   "metadata": {},
   "outputs": [
    {
     "name": "stdout",
     "output_type": "stream",
     "text": [
      "cat, cat, dog\ndog, cat, dog\nInvalid argument at position 2: Type Cat expected but got Dog\n"
     ]
    }
   ],
   "source": [
    "class Animal:\n",
    "    pass\n",
    "\n",
    "class Cat(Animal):\n",
    "    def __str__(self):\n",
    "        return 'cat'\n",
    "\n",
    "class Dog(Animal):\n",
    "    def __str__(self):\n",
    "        return 'dog'\n",
    "\n",
    "@validate(Animal, Cat, Dog)\n",
    "def foo(x, y, z):\n",
    "    print(', '.join([str(x), str(y), str(z)]))\n",
    "          \n",
    "foo(Cat(), Cat(), Dog())\n",
    "foo(Dog(), Cat(), Dog())\n",
    "try:\n",
    "    foo(Cat(), Dog(), Cat())\n",
    "except Exception as e:\n",
    "    print(e)"
   ]
  },
  {
   "cell_type": "markdown",
   "metadata": {},
   "source": [
    "Class enumerations can also work as regular validators..."
   ]
  },
  {
   "cell_type": "code",
   "execution_count": 5,
   "metadata": {},
   "outputs": [
    {
     "name": "stdout",
     "output_type": "stream",
     "text": [
      "Color.RED\nColor.GREEN\nColor.BLUE\nInvalid argument at position 1: Type Color expected but got bool\n"
     ]
    }
   ],
   "source": [
    "from enum import Enum, auto\n",
    "\n",
    "class Color(Enum):\n",
    "    RED = auto(),\n",
    "    GREEN = auto(),\n",
    "    BLUE = auto()\n",
    "\n",
    "@validate(Color)\n",
    "def bar(x):\n",
    "    print(x)\n",
    "    \n",
    "bar(Color.RED)\n",
    "bar(Color.GREEN)\n",
    "bar(Color.BLUE)\n",
    "try:\n",
    "    bar(False)\n",
    "except Exception as e:\n",
    "    print(e)"
   ]
  },
  {
   "cell_type": "markdown",
   "metadata": {},
   "source": [
    "You can ensure that your arguments have a correct type and also they take a discrete value within a numeric range, list, ..."
   ]
  },
  {
   "cell_type": "code",
   "execution_count": 6,
   "metadata": {},
   "outputs": [
    {
     "name": "stdout",
     "output_type": "stream",
     "text": [
      "r 10 0\nw 15 yes\nInvalid argument at position 2: Value in [0, 1, ..., 18, 19] expected but got None\nInvalid argument at position 3: Value in [0, 1, 'yes', 'no'] expected but got maybe\n"
     ]
    }
   ],
   "source": [
    "\n",
    "\n",
    "@validate(['r', 'w', 'x'], range(0, 20), (0, 1, 'yes', 'no'))\n",
    "def foo(x, y, z):\n",
    "    print(x, y, z)\n",
    "\n",
    "foo('r', 10, 0)\n",
    "foo('w', 15, 'yes')\n",
    "try:\n",
    "    foo('r', None, 0)\n",
    "except Exception as e:\n",
    "    print(e)\n",
    "\n",
    "try:\n",
    "    foo('r', 10, 'maybe')\n",
    "except Exception as e:\n",
    "    print(e)"
   ]
  },
  {
   "cell_type": "markdown",
   "metadata": {},
   "source": [
    "In the previous code, the first argument must be either 'r', 'w' or 'x' (all string values)\n",
    "The second argument must be an int object within the range [0, 20) and the last argument could be 0, 1, 'yes' or 'no' (either ints or strings)\n",
    "  "
   ]
  },
  {
   "cell_type": "markdown",
   "metadata": {},
   "source": [
    "You can combine your validators grouping them in a tuple or a list"
   ]
  },
  {
   "cell_type": "code",
   "execution_count": 7,
   "metadata": {},
   "outputs": [
    {
     "name": "stdout",
     "output_type": "stream",
     "text": [
      "5\nHello World!\nInvalid argument at position 1: Expected value of type str or int value in [0, 1, ..., 8, 9] but got True (bool type)\n"
     ]
    }
   ],
   "source": [
    "@validate([str, range(0, 10)])\n",
    "def foo(x):\n",
    "    print(x)\n",
    "\n",
    "foo(5)\n",
    "foo('Hello World!')\n",
    "try:\n",
    "    foo(True)\n",
    "except Exception as e:\n",
    "    print(e)"
   ]
  },
  {
   "cell_type": "markdown",
   "metadata": {},
   "source": [
    "x will match any str OR a int object in the range [0, 10)"
   ]
  },
  {
   "cell_type": "markdown",
   "metadata": {},
   "source": [
    "You can define your custom validators as regular methods or lambdas...."
   ]
  },
  {
   "cell_type": "code",
   "execution_count": 8,
   "metadata": {},
   "outputs": [
    {
     "name": "stdout",
     "output_type": "stream",
     "text": [
      "0 1\n0 1\nInvalid argument at position 1: Expression even(1) evaluated to False\nInvalid argument at position 2: Expression evaluated to False\n"
     ]
    }
   ],
   "source": [
    "def even(x):\n",
    "    return x % 2 == 0\n",
    "\n",
    "odd = lambda x: x % 2 == 1\n",
    "\n",
    "@validate(even, odd)\n",
    "def foo(x, y):\n",
    "    print(x % 2, y % 2)\n",
    "    \n",
    "foo(0, 1)\n",
    "foo(2, 5)\n",
    "try:\n",
    "    foo(1, 1)\n",
    "except Exception as e:\n",
    "    print(e)\n",
    "    \n",
    "try:\n",
    "    foo(0, 2)\n",
    "except Exception as e:\n",
    "    print(e)"
   ]
  },
  {
   "cell_type": "markdown",
   "metadata": {},
   "source": [
    "Your validator must return any object that python evaluates to true if the argument is valid or something that evaluates to false otherwise.\n",
    "\n",
    "You can raise an exception inside your validator instead of returning False to append some text to the error message. e.g:"
   ]
  },
  {
   "cell_type": "code",
   "execution_count": 15,
   "metadata": {},
   "outputs": [
    {
     "name": "stdout",
     "output_type": "stream",
     "text": [
      "0\nInvalid argument at position 1: 5 is not even\n"
     ]
    }
   ],
   "source": [
    "def even(x):\n",
    "    if x % 2 > 0:\n",
    "        raise Exception('{} is not even'.format(x))\n",
    "    return True\n",
    "\n",
    "@validate(even)\n",
    "def foo(x):\n",
    "    print(x % 2)\n",
    "\n",
    "foo(0)\n",
    "try:\n",
    "    foo(5)\n",
    "except Exception as e:\n",
    "    print(e)"
   ]
  },
  {
   "cell_type": "markdown",
   "metadata": {},
   "source": [
    "Validators can be stacked (You can define multiple validation stages)\n"
   ]
  },
  {
   "cell_type": "code",
   "execution_count": 18,
   "metadata": {},
   "outputs": [
    {
     "name": "stdout",
     "output_type": "stream",
     "text": [
      "0.0\n"
     ]
    }
   ],
   "source": [
    "foo(2.0)"
   ]
  },
  {
   "cell_type": "markdown",
   "metadata": {},
   "source": [
    "Suppose that we want to consider only int values whose modulus (operation %) with 2 is 0 (even natural numbers).\n",
    "We can make a first a type check (to ensure that only int values are valid)"
   ]
  },
  {
   "cell_type": "code",
   "execution_count": 23,
   "metadata": {},
   "outputs": [
    {
     "name": "stdout",
     "output_type": "stream",
     "text": [
      "int 0\nInvalid argument at position 1: Type int expected but got float (at level 1)\nInvalid argument at position 1: 3 is not even (at level 2)\n"
     ]
    }
   ],
   "source": [
    "@validate(int)\n",
    "@validate(even)\n",
    "def foo(x):\n",
    "    print(type(x).__name__, x % 2)\n",
    "    \n",
    "foo(2)\n",
    "try:\n",
    "    foo(2.0)\n",
    "except Exception as e:\n",
    "    print(e)\n",
    "    \n",
    "try:\n",
    "    foo(3)\n",
    "except Exception as e:\n",
    "    print(e)"
   ]
  },
  {
   "cell_type": "markdown",
   "metadata": {},
   "source": [
    ""
   ]
  },
  {
   "cell_type": "code",
   "execution_count": null,
   "metadata": {},
   "outputs": [],
   "source": []
  }
 ],
 "metadata": {
  "kernelspec": {
   "display_name": "Python 2",
   "language": "python",
   "name": "python2"
  },
  "language_info": {
   "codemirror_mode": {
    "name": "ipython",
    "version": 2
   },
   "file_extension": ".py",
   "mimetype": "text/x-python",
   "name": "python",
   "nbconvert_exporter": "python",
   "pygments_lexer": "ipython2",
   "version": "2.7.6"
  }
 },
 "nbformat": 4,
 "nbformat_minor": 0
}
