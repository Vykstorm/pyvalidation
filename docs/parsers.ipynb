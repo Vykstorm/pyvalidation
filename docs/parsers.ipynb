{
 "cells": [
  {
   "cell_type": "markdown",
   "metadata": {
    "collapsed": true
   },
   "source": [
    "Just like there exists the decorator @validate to add a validation stage for the input arguments,  @parse can add a parsing stage to modify the input argument values.\n",
    "\n",
    "This is a quick example:"
   ]
  },
  {
   "cell_type": "code",
   "execution_count": 4,
   "metadata": {},
   "outputs": [],
   "source": [
    "from vpfargs import validate, parse"
   ]
  },
  {
   "cell_type": "code",
   "execution_count": 5,
   "metadata": {},
   "outputs": [
    {
     "name": "stdout",
     "output_type": "stream",
     "text": [
      "hello world! 123\n"
     ]
    }
   ],
   "source": [
    "@parse(str.lower, int)\n",
    "def foo(x, y):\n",
    "    print(x, y)\n",
    "\n",
    "foo('HELLO WORLD!', '123')"
   ]
  },
  {
   "cell_type": "markdown",
   "metadata": {},
   "source": [
    "The first argument was lowercased and the second one converted to an int object. As you can see, parsers are functions, lambdas or callables that accepts one input argument and returns the parsed value"
   ]
  },
  {
   "cell_type": "markdown",
   "metadata": {},
   "source": [
    "Parsers like validators can also raise exceptions. If parsing failed, the body of the function is not called"
   ]
  },
  {
   "cell_type": "code",
   "execution_count": 8,
   "metadata": {},
   "outputs": [
    {
     "name": "stdout",
     "output_type": "stream",
     "text": [
      "Error parsing argument at position 2: invalid literal for int() with base 10: 'This is not a number'\n"
     ]
    }
   ],
   "source": [
    "try:\n",
    "    foo('Hello World!', 'This is not a number')\n",
    "except Exception as e:\n",
    "    print(e)"
   ]
  },
  {
   "cell_type": "markdown",
   "metadata": {},
   "source": [
    "You can validate & parse function arguments stacking @validate and @parse decorators"
   ]
  },
  {
   "cell_type": "code",
   "execution_count": 11,
   "metadata": {},
   "outputs": [
    {
     "name": "stdout",
     "output_type": "stream",
     "text": [
      "Hello World! 17\nInvalid argument at position 1: Type str expected but got bool (at level 1)\nInvalid argument at position 2: Type int expected but got float (at level 1)\n"
     ]
    }
   ],
   "source": [
    "@validate(str, int)\n",
    "@parse(str.title, lambda y: y ** 2 + 1)\n",
    "def foo(x, y):\n",
    "    print(x, y)\n",
    "\n",
    "foo('hello world!', 4)\n",
    "\n",
    "try:\n",
    "    foo(False, 1)\n",
    "except Exception as e:\n",
    "    print(e)\n",
    "    \n",
    "\n",
    "try:\n",
    "    foo('bye world!', 2.0)\n",
    "except Exception as e:\n",
    "    print(e)\n"
   ]
  },
  {
   "cell_type": "code",
   "execution_count": null,
   "metadata": {},
   "outputs": [],
   "source": []
  }
 ],
 "metadata": {
  "kernelspec": {
   "display_name": "Python 2",
   "language": "python",
   "name": "python2"
  },
  "language_info": {
   "codemirror_mode": {
    "name": "ipython",
    "version": 2
   },
   "file_extension": ".py",
   "mimetype": "text/x-python",
   "name": "python",
   "nbconvert_exporter": "python",
   "pygments_lexer": "ipython2",
   "version": "2.7.6"
  }
 },
 "nbformat": 4,
 "nbformat_minor": 0
}
