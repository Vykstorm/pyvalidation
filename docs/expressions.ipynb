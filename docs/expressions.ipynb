{
 "cells": [
  {
   "cell_type": "markdown",
   "metadata": {
    "collapsed": true
   },
   "source": [
    "A special object called \"argument placeholder\" was added to this library to create simple expressions that you can use as validators or parsers.\n",
    "For example, to build a simple validator that checks if a number is greater than 10 and its also even, you could write..."
   ]
  },
  {
   "cell_type": "code",
   "execution_count": 7,
   "metadata": {},
   "outputs": [],
   "source": [
    "from vpfargs import validate, parse, arg\n"
   ]
  },
  {
   "cell_type": "code",
   "execution_count": 8,
   "metadata": {},
   "outputs": [
    {
     "name": "stdout",
     "output_type": "stream",
     "text": [
      "12 0\nInvalid argument at position 1: Expression (13 > 10) & ((13 % 2) == 0) evaluated to false (at level 2)\n"
     ]
    }
   ],
   "source": [
    "\n",
    "@validate(int)\n",
    "@validate((arg > 10) & ((arg % 2) == 0))\n",
    "def foo(x):\n",
    "    print(x, x % 2)\n",
    "\n",
    "foo(12)\n",
    "\n",
    "try:\n",
    "    foo(13)\n",
    "except Exception as e:\n",
    "    print(e)"
   ]
  },
  {
   "cell_type": "markdown",
   "metadata": {},
   "source": [
    "arg is the argument placeholder that acts like the input value to be checked. You can operate with it using the regular arithmetic, bitwise and comparision operators.\n",
    "The input argument will be valid when the placeholder is replaced by its value and the resulting expression evaluates to true.\n"
   ]
  },
  {
   "cell_type": "markdown",
   "metadata": {},
   "source": [
    "This expressions can be used also as parsers as shown in the next piece of code"
   ]
  },
  {
   "cell_type": "code",
   "execution_count": 11,
   "metadata": {},
   "outputs": [
    {
     "name": "stdout",
     "output_type": "stream",
     "text": [
      "0.1\n0.5\n"
     ]
    }
   ],
   "source": [
    "@validate(range(0, 100))\n",
    "@parse(arg / 100)\n",
    "def foo(x):\n",
    "    print(x)\n",
    "    \n",
    "foo(10)\n",
    "foo(50)"
   ]
  },
  {
   "cell_type": "markdown",
   "metadata": {},
   "source": [
    "When expressions are used as parsers, the parsed value will be the result of replacing the argument placeholder by the input value in the expression built."
   ]
  },
  {
   "cell_type": "code",
   "execution_count": null,
   "metadata": {},
   "outputs": [],
   "source": []
  }
 ],
 "metadata": {
  "kernelspec": {
   "display_name": "Python 2",
   "language": "python",
   "name": "python2"
  },
  "language_info": {
   "codemirror_mode": {
    "name": "ipython",
    "version": 2
   },
   "file_extension": ".py",
   "mimetype": "text/x-python",
   "name": "python",
   "nbconvert_exporter": "python",
   "pygments_lexer": "ipython2",
   "version": "2.7.6"
  }
 },
 "nbformat": 4,
 "nbformat_minor": 0
}
