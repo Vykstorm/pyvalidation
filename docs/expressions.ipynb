{
 "cells": [
  {
   "cell_type": "markdown",
   "metadata": {
    "collapsed": true
   },
   "source": [
    "A special object called \"argument placeholder\" was added to this library to create simple expressions that you can use as validators or parsers.\n",
    "For example, to build a simple validator that checks if a number is greater than 10 ando also even, you could write..."
   ]
  },
  {
   "cell_type": "code",
   "execution_count": 1,
   "metadata": {},
   "outputs": [
    {
     "name": "stdout",
     "output_type": "stream",
     "text": [
      "12 0\nInvalid argument at position 1: Expression (13 > 10) & ((13 % 2) == 0) evaluated to false (at level 2)\n"
     ]
    }
   ],
   "source": [
    "from vpfargs import validate, arg\n",
    "\n",
    "@validate(int)\n",
    "@validate((arg > 10) & ((arg % 2) == 0))\n",
    "def foo(x):\n",
    "    print(x, x % 2)\n",
    "\n",
    "foo(12)\n",
    "\n",
    "try:\n",
    "    foo(13)\n",
    "except Exception as e:\n",
    "    print(e)"
   ]
  },
  {
   "cell_type": "markdown",
   "metadata": {},
   "source": [
    "arg is the argument placeholder that acts like the input value to be checked. You can operate with it using the regular arithmetic, bitwise and comparision operators.\n",
    "The validator will match any argument that when replacing the placeholder with its value, the resulting expression evaluates to true"
   ]
  },
  {
   "cell_type": "markdown",
   "metadata": {},
   "source": [
    "You can also build parsers with this feature..."
   ]
  },
  {
   "cell_type": "code",
   "execution_count": 2,
   "metadata": {},
   "outputs": [
    {
     "name": "stdout",
     "output_type": "stream",
     "text": [
      "3\n5\n"
     ]
    }
   ],
   "source": [
    "from vpfargs import parse, validate, arg\n",
    "\n",
    "@validate(int)\n",
    "@parse((arg ** 2) // 5)\n",
    "def foo(x):\n",
    "    print(x)\n",
    "    \n",
    "foo(4)\n",
    "foo(5)"
   ]
  },
  {
   "cell_type": "markdown",
   "metadata": {},
   "source": [
    "The parsed value will be the result of replacing the placeholder with the argument value in the expression"
   ]
  },
  {
   "cell_type": "markdown",
   "metadata": {},
   "source": [
    "",
    "\n",
    "\n"
   ]
  }
 ],
 "metadata": {
  "kernelspec": {
   "display_name": "Python 2",
   "language": "python",
   "name": "python2"
  },
  "language_info": {
   "codemirror_mode": {
    "name": "ipython",
    "version": 2
   },
   "file_extension": ".py",
   "mimetype": "text/x-python",
   "name": "python",
   "nbconvert_exporter": "python",
   "pygments_lexer": "ipython2",
   "version": "2.7.6"
  }
 },
 "nbformat": 4,
 "nbformat_minor": 0
}
