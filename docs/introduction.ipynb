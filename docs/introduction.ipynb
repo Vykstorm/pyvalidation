{
 "cells": [
  {
   "cell_type": "markdown",
   "metadata": {
    "collapsed": true
   },
   "source": [
    "<p>This notebook shows some basic features of this library</p>\n"
   ]
  },
  {
   "cell_type": "code",
   "execution_count": 2,
   "metadata": {},
   "outputs": [],
   "source": [
    "from vpfargs import validate, parse\n",
    "\n",
    "@validate(int, int, int)\n",
    "def foo(a, b, c):\n",
    "    return a + b + c"
   ]
  },
  {
   "cell_type": "markdown",
   "metadata": {},
   "source": [
    "The code above defines a function called \"foo\" with three paramaters. But also we used the \"validate\" object to decorate it so that input arguments will be validated. In this case, all the arguments must have the integer type"
   ]
  },
  {
   "cell_type": "code",
   "execution_count": 3,
   "metadata": {},
   "outputs": [
    {
     "data": {
      "text/plain": [
       "6"
      ]
     },
     "execution_count": 3,
     "metadata": {},
     "output_type": "execute_result"
    }
   ],
   "source": [
    "foo(1,2,3)"
   ]
  },
  {
   "cell_type": "code",
   "execution_count": 4,
   "metadata": {},
   "outputs": [
    {
     "name": "stdout",
     "output_type": "stream",
     "text": [
      "Invalid argument at position 1: Type int expected but got str\n"
     ]
    }
   ],
   "source": [
    "try:\n",
    "    foo('Hello World!', True, False)\n",
    "except Exception as e:\n",
    "    print(str(e))"
   ]
  },
  {
   "cell_type": "markdown",
   "metadata": {},
   "source": [
    "When arguments are not valid like in the second output, an error is raised before calling the body of our function"
   ]
  },
  {
   "cell_type": "markdown",
   "metadata": {},
   "source": [
    "The next code shows that is possible to define different kind of validators"
   ]
  },
  {
   "cell_type": "code",
   "execution_count": 5,
   "metadata": {},
   "outputs": [],
   "source": [
    "@validate(int, range(0, 20), ['r', 'w', 'x'])\n",
    "def foo(a, b, c):\n",
    "    print(a, b, c)\n",
    "    print(type(a).__name__, type(b).__name__, type(c).__name__)\n",
    "    \n",
    "foo(1, 10, 'r')"
   ]
  },
  {
   "cell_type": "markdown",
   "metadata": {},
   "source": [
    "The first argument must be of type int. The second one must be an integer value within the range [0, 20) and the last one need to be one of the items in the list ['r', 'w', 'x']. There are a few more built-in validators avaliable (explained in later sections)"
   ]
  },
  {
   "cell_type": "markdown",
   "metadata": {},
   "source": [
    "This library also offers an easy way to parse function arguments"
   ]
  },
  {
   "cell_type": "code",
   "execution_count": 6,
   "metadata": {},
   "outputs": [
    {
     "name": "stdout",
     "output_type": "stream",
     "text": [
      "hello world!\nBYE WORLD!\n"
     ]
    }
   ],
   "source": [
    "@parse(str.lower, str.upper)\n",
    "def bar(x, y):\n",
    "    print(x)\n",
    "    print(y)\n",
    "\n",
    "bar('Hello World!', 'Bye World!')"
   ]
  },
  {
   "cell_type": "markdown",
   "metadata": {},
   "source": [
    "In the above code, when calling function \"bar\", the first argument is lower cased whereas the second one is upper cased."
   ]
  },
  {
   "cell_type": "markdown",
   "metadata": {},
   "source": [
    "You can create more complex validation/parsing pipelines decorating your function multiple times..."
   ]
  },
  {
   "cell_type": "code",
   "execution_count": 7,
   "metadata": {},
   "outputs": [
    {
     "name": "stdout",
     "output_type": "stream",
     "text": [
      "0.5\n0.75\nInvalid argument at position 1: Value in range(0, 100) expected but got 100 (at level 1)\n"
     ]
    }
   ],
   "source": [
    "@validate(range(0, 100))\n",
    "@parse(lambda x: x / 100)\n",
    "def foo(x):\n",
    "    print(x)\n",
    "    \n",
    "    \n",
    "foo(50)\n",
    "foo(75)\n",
    "try:\n",
    "    foo(100)\n",
    "except Exception as e:\n",
    "    print(str(e))"
   ]
  },
  {
   "cell_type": "markdown",
   "metadata": {},
   "source": [
    "The code above first check if the given argument is within the integer range [0, 100) and later its replaced by the cocient obtained dividing it by 100"
   ]
  },
  {
   "cell_type": "markdown",
   "metadata": {},
   "source": [
    "Read the next sections to know more about this library"
   ]
  },
  {
   "cell_type": "code",
   "execution_count": null,
   "metadata": {},
   "outputs": [],
   "source": []
  }
 ],
 "metadata": {
  "kernelspec": {
   "display_name": "Python 2",
   "language": "python",
   "name": "python2"
  },
  "language_info": {
   "codemirror_mode": {
    "name": "ipython",
    "version": 2
   },
   "file_extension": ".py",
   "mimetype": "text/x-python",
   "name": "python",
   "nbconvert_exporter": "python",
   "pygments_lexer": "ipython2",
   "version": "2.7.6"
  }
 },
 "nbformat": 4,
 "nbformat_minor": 0
}
