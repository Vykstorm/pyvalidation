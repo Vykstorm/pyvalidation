{
 "cells": [
  {
   "cell_type": "markdown",
   "metadata": {
    "collapsed": true
   },
   "source": [
    "A special object called \"argument placeholder\" was added to this library to create simple expressions that you can use as validators or parsers.\n",
    "For example, to build a simple validator that checks if a number is greater than 10 you could write..."
   ]
  },
  {
   "cell_type": "code",
   "execution_count": 5,
   "metadata": {},
   "outputs": [
    {
     "name": "stdout",
     "output_type": "stream",
     "text": [
      "12 0\nInvalid argument at position 1: Expression (13 > 10) & ((13 % 2) == 0) evaluated to false (at level 2)\n"
     ]
    }
   ],
   "source": [
    "from vpfargs import validate, arg\n",
    "\n",
    "@validate(int)\n",
    "@validate((arg > 10) & ((arg % 2) == 0))\n",
    "def foo(x):\n",
    "    print(x, x % 2)\n",
    "\n",
    "foo(12)\n",
    "\n",
    "try:\n",
    "    foo(13)\n",
    "except Exception as e:\n",
    "    print(e)"
   ]
  },
  {
   "cell_type": "markdown",
   "metadata": {},
   "source": [
    "arg is the argument placeholder that acts like the input value to be checked. You can operate with it using the regular arithmetic, bitwise and comparision operators.\n",
    "The input argument will match the expression validator\n"
   ]
  },
  {
   "cell_type": "code",
   "execution_count": 6,
   "metadata": {},
   "outputs": [],
   "source": []
  },
  {
   "cell_type": "code",
   "execution_count": null,
   "metadata": {},
   "outputs": [],
   "source": []
  }
 ],
 "metadata": {
  "kernelspec": {
   "display_name": "Python 2",
   "language": "python",
   "name": "python2"
  },
  "language_info": {
   "codemirror_mode": {
    "name": "ipython",
    "version": 2
   },
   "file_extension": ".py",
   "mimetype": "text/x-python",
   "name": "python",
   "nbconvert_exporter": "python",
   "pygments_lexer": "ipython2",
   "version": "2.7.6"
  }
 },
 "nbformat": 4,
 "nbformat_minor": 0
}
