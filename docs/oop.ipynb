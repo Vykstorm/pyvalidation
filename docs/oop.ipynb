{
 "cells": [
  {
   "cell_type": "markdown",
   "metadata": {
    "collapsed": true
   },
   "source": [
    "This section shows how you can validate input arguments in instance, static or class methods.\n"
   ]
  },
  {
   "cell_type": "markdown",
   "metadata": {},
   "source": [
    "For static methods, its the same thing as regular methods, but @staticmethod decorator should be declared on top of any @validate or @parse decorators specified"
   ]
  },
  {
   "cell_type": "code",
   "execution_count": 4,
   "metadata": {},
   "outputs": [],
   "source": [
    "from vpfargs import validate"
   ]
  },
  {
   "cell_type": "code",
   "execution_count": 5,
   "metadata": {},
   "outputs": [],
   "source": [
    "class Foo:\n",
    "    @staticmethod\n",
    "    @validate(int)\n",
    "    def bar(x):\n",
    "        pass\n",
    "\n",
    "Foo.bar(1)\n"
   ]
  },
  {
   "cell_type": "markdown",
   "metadata": {},
   "source": [
    "For instance and class methods things change a bit because the signature of the method includes an additional parameter at the beginning, typically \"self\" and \"cls\"\n",
    "\n",
    "You can define your validators as the code below \n"
   ]
  },
  {
   "cell_type": "code",
   "execution_count": 12,
   "metadata": {},
   "outputs": [],
   "source": [
    "class Foo:\n",
    "    @classmethod\n",
    "    @validate(object, int)\n",
    "    def bar(cls, x):\n",
    "        pass\n",
    "    \n",
    "    @validate(object, int)\n",
    "    def qux(self, x):\n",
    "        pass\n",
    "    \n",
    "Foo.bar(1)\n",
    "Foo().bar(1)\n",
    "\n",
    "Foo().qux(1)\n",
    "Foo.qux(Foo(), 1)"
   ]
  },
  {
   "cell_type": "markdown",
   "metadata": {},
   "source": [
    "Like for validating statc methods, @classmethod decorator should be on top of any @validate or @parse decorators.\n"
   ]
  },
  {
   "cell_type": "markdown",
   "metadata": {},
   "source": [
    "To avoid validation of the argument \"self\" or \"cls\", we use the keyword \"object\" to set an \"empty\" validator."
   ]
  },
  {
   "cell_type": "code",
   "execution_count": null,
   "metadata": {},
   "outputs": [],
   "source": []
  }
 ],
 "metadata": {
  "kernelspec": {
   "display_name": "Python 2",
   "language": "python",
   "name": "python2"
  },
  "language_info": {
   "codemirror_mode": {
    "name": "ipython",
    "version": 2
   },
   "file_extension": ".py",
   "mimetype": "text/x-python",
   "name": "python",
   "nbconvert_exporter": "python",
   "pygments_lexer": "ipython2",
   "version": "2.7.6"
  }
 },
 "nbformat": 4,
 "nbformat_minor": 0
}
